{
 "cells": [
  {
   "cell_type": "markdown",
   "metadata": {},
   "source": [
    "<small><small><i>\n",
    "All of these python notebooks are available at [ https://github.com/milaan9/Python4DataScience ]\n",
    "</i></small></small>"
   ]
  },
  {
   "cell_type": "markdown",
   "metadata": {},
   "source": [
    "# Python Keywords and Identifiers\n",
    "\n",
    "In this class, you will learn about keywords (reserved words in Python) and identifiers (names given to variables, functions, etc.)."
   ]
  },
  {
   "cell_type": "markdown",
   "metadata": {
    "heading_collapsed": true
   },
   "source": [
    "# 1. Python Keywords\n",
    "\n",
    "Keywords are the reserved words in Python.\n",
    "\n",
    "We **cannot use a keyword as a variable name**, function name or any other identifier. They are used to define the syntax and structure of the Python language.\n",
    "\n",
    "In Python, keywords are **case sensitive**.\n",
    "\n",
    "There are **33** keywords in Python 3.7. This number can vary slightly over the course of time.\n",
    "\n",
    "All the keywords except **`True`**, **`False`** and **`None`** are in lowercase and they must be written as they are. The list of all the keywords is given below.\n",
    "\n",
    "**Keywords in Python**\n",
    "\n",
    "|    |    |    |   |    |\n",
    "|:----|:----|:----|:----|:----|\n",
    "| **`False`** | **`await`** | **`else`** | **`import`** | **`pass`** |\n",
    "| **`None`** | **`break`** | **`except`** | **`in`** | **`raise`** |\n",
    "| **`True`** | **`class`** | **`finally`** | **`is`** | **`return`** |\n",
    "| **`and`** | **`continue`** | **`for`** | **`lambda`** | **`try`** |\n",
    "| **`as`** | **`def`** | **`from`** | **`nonlocal`** | **`while`** |\n",
    "| **`assert`** | **`del`** | **`global`** | **`not`** | **`with`**  |\n",
    "| **`async`** | **`elif`** | **`if`** | **`or`** |  **`yield`**  |\n",
    "\n",
    "You can see this list any time by typing help **`keywords`** to the Python interpreter. \n",
    "\n",
    "Trying to create a variable with the same name as any reserved word results in an **error**:\n",
    "\n",
    "```python\n",
    ">>>for = 3\n",
    "\n",
    "File \"<ipython-input-1-50b154750974>\", line 1\n",
    "for = 3 # It will give error becasue \"for\" is keyword and we cannot use as a variable name.\n",
    "        ^\n",
    "SyntaxError: invalid syntax\n",
    "```"
   ]
  },
  {
   "cell_type": "code",
   "execution_count": null,
   "metadata": {
    "ExecuteTime": {
     "end_time": "2021-06-06T05:01:54.138110Z",
     "start_time": "2021-06-06T05:01:54.119560Z"
    },
    "hidden": true
   },
   "outputs": [],
   "source": [
    "for = 3 # It will give error becasue \"for\" is keyword and we cannot use as a variable name."
   ]
  },
  {
   "cell_type": "code",
   "execution_count": null,
   "metadata": {
    "hidden": true
   },
   "outputs": [],
   "source": [
    "For = 3 # \"for\" is keyword but \"For\" is not keyword so we can use it as variable name\n",
    "For"
   ]
  },
  {
   "cell_type": "markdown",
   "metadata": {
    "heading_collapsed": true
   },
   "source": [
    "# 2. Python Identifiers\n",
    "\n",
    "An **identifier** is a name given to entities like **class, functions, variables, etc**. It helps to differentiate one entity from another."
   ]
  },
  {
   "cell_type": "markdown",
   "metadata": {
    "heading_collapsed": true,
    "hidden": true
   },
   "source": [
    "### Rules for writing identifiers\n",
    "\n",
    "1. **Identifiers** can be a combination of letters in lowercase **(a to z)** or uppercase **(A to Z)** or digits **(0 to 9)** or an underscore **`_`**. Names like **`myClass`**, **`var_1`** and **`print_this_to_screen`**, all are valid example. \n",
    "\n",
    "2. An identifier cannot start with a digit. **`1variable`** is invalid, but **`variable1`** is perfectly fine. \n",
    "\n",
    "3. Keywords cannot be used as identifiers\n",
    "\n",
    "```python\n",
    ">>>global = 1\n",
    "\n",
    "File \"<ipython-input-2-43186c7d3555>\", line 1\n",
    "    global = 1 # because \"global\" is a keyword\n",
    "           ^\n",
    "SyntaxError: invalid syntax\n",
    "```"
   ]
  },
  {
   "cell_type": "code",
   "execution_count": null,
   "metadata": {
    "ExecuteTime": {
     "end_time": "2021-06-06T05:05:55.539901Z",
     "start_time": "2021-06-06T05:05:55.526232Z"
    },
    "hidden": true
   },
   "outputs": [],
   "source": [
    "global = 1 # because \"global\" is a keyword"
   ]
  },
  {
   "cell_type": "markdown",
   "metadata": {
    "hidden": true
   },
   "source": [
    "4. We cannot use special symbols like **!**, **@**, **#**,<b> $, % </b>, etc. in our identifier.\n",
    "\n",
    "```python\n",
    ">>>a@ = 0\n",
    "\n",
    "File \"<ipython-input-3-4d4a0e714c73>\", line 1\n",
    "    a@ = 0\n",
    "       ^\n",
    "SyntaxError: invalid syntax\n",
    "```"
   ]
  },
  {
   "cell_type": "code",
   "execution_count": null,
   "metadata": {
    "ExecuteTime": {
     "end_time": "2021-06-06T05:07:16.035501Z",
     "start_time": "2021-06-06T05:07:16.027689Z"
    },
    "hidden": true
   },
   "outputs": [],
   "source": [
    "a@ = 0"
   ]
  },
  {
   "cell_type": "markdown",
   "metadata": {
    "heading_collapsed": true,
    "hidden": true
   },
   "source": [
    "## Things to Remember\n",
    "\n",
    "Python is a case-sensitive language. This means, **`Variable`** and **`variable`** are not the same.\n",
    "\n",
    "Always give the identifiers a name that makes sense. While **`c = 10`** is a valid name, writing **`count = 10`** would make more sense, and it would be easier to figure out what it represents when you look at your code after a long gap.\n",
    "\n",
    "Multiple words can be separated using an underscore, like **`this_is_a_long_variable`**."
   ]
  },
  {
   "cell_type": "code",
   "execution_count": null,
   "metadata": {
    "hidden": true
   },
   "outputs": [],
   "source": [
    "this_is_a_long_variable = 5+3\n",
    "this_is_a_long_variable"
   ]
  },
  {
   "cell_type": "code",
   "execution_count": null,
   "metadata": {
    "hidden": true
   },
   "outputs": [],
   "source": [
    "add_5_and_3 = 5+3\n",
    "add_5_and_3"
   ]
  },
  {
   "cell_type": "code",
   "execution_count": null,
   "metadata": {
    "hidden": true
   },
   "outputs": [],
   "source": []
  }
 ],
 "metadata": {
  "hide_input": false,
  "kernelspec": {
   "display_name": "Python 3",
   "language": "python",
   "name": "python3"
  },
  "language_info": {
   "codemirror_mode": {
    "name": "ipython",
    "version": 3
   },
   "file_extension": ".py",
   "mimetype": "text/x-python",
   "name": "python",
   "nbconvert_exporter": "python",
   "pygments_lexer": "ipython3",
   "version": "3.8.3"
  },
  "varInspector": {
   "cols": {
    "lenName": 16,
    "lenType": 16,
    "lenVar": 40
   },
   "kernels_config": {
    "python": {
     "delete_cmd_postfix": "",
     "delete_cmd_prefix": "del ",
     "library": "var_list.py",
     "varRefreshCmd": "print(var_dic_list())"
    },
    "r": {
     "delete_cmd_postfix": ") ",
     "delete_cmd_prefix": "rm(",
     "library": "var_list.r",
     "varRefreshCmd": "cat(var_dic_list()) "
    }
   },
   "types_to_exclude": [
    "module",
    "function",
    "builtin_function_or_method",
    "instance",
    "_Feature"
   ],
   "window_display": false
  }
 },
 "nbformat": 4,
 "nbformat_minor": 2
}
