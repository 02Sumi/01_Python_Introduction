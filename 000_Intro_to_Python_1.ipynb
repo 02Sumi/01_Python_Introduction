{
 "cells": [
  {
   "cell_type": "markdown",
   "metadata": {},
   "source": [
    "<small><small><i>\n",
    "All the IPython Notebooks in this lecture series by Dr. Milan Parmar are available @ **[GitHub](https://github.com/milaan9/01_Python_Introduction)**\n",
    "</i></small></small>"
   ]
  },
  {
   "cell_type": "markdown",
   "metadata": {},
   "source": [
    "# Introduction to Python\n",
    "\n",
    "<div>\n",
    "<img src=\"img/logo.png\" width=\"200\"/>\n",
    "</div>\n",
    "\n",
    "> These documents provide a relatively brief overview of the main features of Python. They are intended as a complete course for students that already have some idea of how to program in another language. Every aspect of Python is covered with some brief examples. "
   ]
  },
  {
   "cell_type": "markdown",
   "metadata": {
    "heading_collapsed": true
   },
   "source": [
    "## Introduction\n",
    "\n",
    "1. Python is a **general purpose, mordern, dynamic, robust, high level** and **interpreted** programming language. It supports **Object Oriented** programming approach to develop applications. It is simple and easy to learn and provides lots of high-level data **structures**. It is very **easy to pick up** even if you are completely new to programming. **Guido Van Rossum** is known as the founder of python programming.\n",
    "\n",
    "\n",
    "2. Python is easy to learn yet powerful and versatile scripting language which makes it attractive for **Application Development.**\n",
    "\n",
    "\n",
    "3. Python's syntax and **dynamic typing** with its interpreted nature, makes it an ideal language for scripting and rapid application development.\n",
    "\n",
    "\n",
    "4. Python supports **multiple** programming pattern, including object oriented, imperative and **functional** or **procedural** programming styles.\n",
    "\n",
    "\n",
    "5. Python is not intended to work on special area such as **web** programming. That is why it is known as multipurpose because it can be used with **web, enterprise, 3D CAD** etc.\n",
    "\n",
    "\n",
    "6. We don't need to use data types to declare variable because it is **dynamically typed** so we can write a=10 to assign an integer value in an integer variable.\n",
    "\n",
    "\n",
    "7. Python makes the development and debugging **fast** because there is no compilation step included in python development and **edit-test-debug** cycle is **very fast.** \n",
    "\n",
    "\n",
    "8. Python, similar to other languages like matlab or R, is interpreted hence runs slowly compared to C++, Fortran or Java. However, writing programs in Python is very quick. Python has a very large collection of libraries for everything from scientific computing to web services. It caters for object oriented and functional programming with module system that allows large and complex applications to be developed in Python. \n",
    "\n",
    "\n",
    "These lectures are using jupyter notebooks which mix Python code with documentation. The python notebooks can be run on a webserver or stand-alone on a computer.\n",
    "\n",
    "To give an indication of what Python code looks like, here is a simple bit of code that defines a set $N=\\{1,3,4,5,7\\}$ and calculates the sum of the squared elements of this set: $\\sum_{i\\in N} i^2=100$"
   ]
  },
  {
   "cell_type": "markdown",
   "metadata": {
    "heading_collapsed": true
   },
   "source": [
    "## Python History\n",
    "\n",
    "1. Python laid its foundation in the late 1980s.\n",
    "\n",
    "\n",
    "2. The implementation of Python was started in the December 1989 by **Guido Van Rossum** at CWI in Netherland.\n",
    "\n",
    "\n",
    "3. In February 1991, van **Rossum** published the code (labeled version 0.9.0) to alt.sources.\n",
    "\n",
    "\n",
    "4. In 1994, **Python 1.0** was released with new features like: lambda, map, filter, and reduce.\n",
    "\n",
    "\n",
    "5. **Python 2.0** added new features like: list **comprehensions, garbage collection system.**\n",
    "\n",
    "\n",
    "6. On December 3, 2008, **Python 3.0** (also called \"**Py3K**\") was released. It was designed to rectify fundamental flaw of the language.\n",
    "\n",
    "\n",
    "7. **ABC** programming language is said to be the predecessor of Python language which was capable of Exception Handling and interfacing with **Amoeba Operating System.**\n",
    "\n",
    "\n",
    "8. Python is influenced by following programming languages: **(1) ABC language. (2) ABC language.**"
   ]
  },
  {
   "cell_type": "markdown",
   "metadata": {
    "heading_collapsed": true
   },
   "source": [
    "## Python Version\n",
    "\n",
    "Lets start off by looking at Python history. Python was developed at a time when many other dynamic and **open-source** programming languages like Tcl, Perl, Ruby etc. were also being actively developed and gaining popularity. \n",
    "\n",
    "1. **Python 1.0** - In **January 1994**, the first version of **Python 1.0** was released. This version 1 includes the major new features like the functional programming tools filter, reduce, map, and lambda etc.\n",
    "\n",
    "2. **Python 2.0** - After Six and a half years later, **Python 2.0** was introduced in **October 2000**. In this release, a full garbage collector, list comprehensions were included, and it also supports **Unicode.**\n",
    "\n",
    "3. **Python 3.0** - Then after 8 years, the next major release was made. This release was **Python 3.0** also known as “**Py3K**” or “**Python 3000**”.\n",
    "\n",
    "The major changes in Python 3.0 are:\n",
    "\n",
    "* In this version, **Print** is a Python function \n",
    "* Instead of lists, in this version, we have **Views** and **iterators**.\n",
    "* In this version, we have more simplified rules for ordering **comparisons**. For example, we cannot sort a **heterogeneous** list, because each element of a Python List must be comparable to other elements.\n",
    "* In this python version, **int. long** is also an int as there is only one **integer type.**\n",
    "* In this python version, when we divide two integers it resultant returns is a float instead of an integer. We can use “**//**” to have the “**old**” behavior.\n",
    "* In this python version, Instead of **Unicode** Vs. **8-bit** we have **Text** Vs. **Data**\n",
    "* The one drawback of **Python 3.0** is that it is **not backward compatible** with **Python 2.x.**\n",
    "\n",
    "Python Latest version:\n",
    "\n",
    "The Python latest version is **3.7.0**. This stable version was released on **27 June**. The current latest (as of Winter 2019) is Python **3.7.2**. \n",
    "\n",
    "The Python 3.7 version is aimed at making complex tasks simple, and It is currently in production release. The improvements to Python 3.7 version include:\n",
    "\n",
    "* **Data classes** that reduce boilerplate when working with data in classes.\n",
    "* A “**development mode**” for the interpreter.\n",
    "* A new built-in for **triggering** the debugger.\n",
    "* **UTF-8** mode that uses UTF-8 encoding by default in the environment.\n",
    "* A potentially **backward-incompatible** change involving the handling of exceptions in generators.\n",
    "* **Nanosecond-resolution** time objects .\n"
   ]
  },
  {
   "cell_type": "markdown",
   "metadata": {
    "heading_collapsed": true
   },
   "source": [
    "## Python 2  vs. Python 3\n",
    "\n",
    "n most of the programming languages, whenever a new version releases, it supports the features and syntax of the existing version of the language, therefore, it is easier for the projects to switch in the newer version. However, in the case of Python, the two versions Python 2 and Python 3 are very much different from each other.\n",
    "\n",
    "**A list of differences between Python 2 and Python 3 are given below:**\n",
    "\n",
    "* In **Python 2** uses print as a statement and used as print \"something\" to print some string on the console. On the other hand, **Python 3** uses print as a function and used as print(\"something\") to print something on the console.\n",
    "\n",
    "\n",
    "* **Python 2** uses the function **raw_input()** to accept the user's input. It returns the string representing the value, which is typed by the user. To convert it into the integer, we need to use the int() function in Python. On the other hand, **Python 3** uses **input()** function which automatically interpreted the type of input entered by the user. However, we can cast this value to any type by using primitive functions (int(), str(), etc.).\n",
    "\n",
    "\n",
    "* In **Python 2**, the implicit string type is **ASCII**, whereas, in **Python 3**, the implicit string type is **Unicode** \n",
    "\n",
    "\n",
    "* **Python 3** doesn't contain the **xrange()** function of **Python 2**. The **xrange()** is the variant of **range()** function which returns a xrange object that works similar to **Java iterator.** The range() returns a list for example the function range(0,3) contains 0, 1, 2.\n",
    "\n",
    "\n",
    "* There is also a small change made in Exception handling in **Python 3.** It defines a keyword as which is necessary to be used. We will discuss it in Exception handling section of Python programming tutorial.\n"
   ]
  },
  {
   "cell_type": "markdown",
   "metadata": {},
   "source": [
    "## Python Applications Area\n",
    "\n",
    "Python is known for its **general purpose** nature that makes it applicable in almost each domain of software development. Python as a whole can be used in any sphere of development. \n",
    "\n",
    "\n",
    "Here, we are **specifing applications** areas where python can be applied.\n",
    "\n",
    "1. **Web Applications**\n",
    "-We can use Python to develop web applications. It provides libraries to handle internet protocols such as HTML and XML, JSON, Email processing, request, beautifulSoup, Feedparser etc. It also provides Frameworks such as Django, Pyramid, Flask etc to design and delelop web based applications. Some important developments are: PythonWikiEngines, Pocoo, PythonBlogSoftware etc.\n",
    "\n",
    "2. **AI & Machine Learning** \n",
    "-Python has Prebuilt Libraries like Numpy for scientific computation, Scipy for advanced computing and Pybrain for machine learning (Python Machine Learning) making it one of the best languages For AI.\n",
    "\n",
    "3. **Desktop GUI Applications**\n",
    "-Python provides Tk GUI library to develop user interface in python based application. Some other useful toolkits wxWidgets, Kivy, pyqt that are useable on several platforms. The Kivy is popular for writing multitouch applications.\n",
    "\n",
    "4. **Software Development** \n",
    "-Python is helpful for software development process. It works as a support language and can be used for build control and management, testing etc.\n",
    "\n",
    "5. **Scientific and Numeric** \n",
    "-Python is popular and widely used in scientific and numeric computing. Some useful library and package are SciPy, Pandas, IPython etc. SciPy is group of packages of engineering, science and mathematics.\n",
    "\n",
    "6. **Business Applications** \n",
    "-Python is used to build Bussiness applications like ERP and e-commerce systems. Tryton is a high level application platform.\n",
    "\n",
    "7. **Console Based Application** \n",
    "-We can use Python to develop console based applications. For example: IPython.\n",
    "\n",
    "8. **Audio or Video based Applications** \n",
    "-Python is awesome to perform multiple tasks and can be used to develop multimedia applications. Some of real applications are: TimPlayer, cplay etc.\n",
    "\n",
    "9. **3D CAD Applications** \n",
    "-To create CAD application Fandango is a real application which provides full features of CAD.\n",
    "\n",
    "10. **Enterprise Applications** \n",
    "-Python can be used to create applications which can be used within an Enterprise or an Organization. Some real time applications are: OpenErp, Tryton, Picalo etc.\n",
    "\n",
    "11. **Applications for Images** \n",
    "-Using Python several application can be developed for image. Applications developed are: VPython, Gogh, imgSeek etc.\n",
    "\n",
    "12. **Games and 3D Graphics** \n",
    "-PyGame, PyKyra are two frameworks for game-development with Python. Apart from these, we also get a variety of 3D-rendering libraries. If you’re one of those game-developers, you can check out PyWeek, a semi-annual game programming contest."
   ]
  },
  {
   "cell_type": "code",
   "execution_count": null,
   "metadata": {},
   "outputs": [],
   "source": []
  }
 ],
 "metadata": {
  "hide_input": false,
  "kernelspec": {
   "display_name": "Python 3",
   "language": "python",
   "name": "python3"
  },
  "language_info": {
   "codemirror_mode": {
    "name": "ipython",
    "version": 3
   },
   "file_extension": ".py",
   "mimetype": "text/x-python",
   "name": "python",
   "nbconvert_exporter": "python",
   "pygments_lexer": "ipython3",
   "version": "3.8.3"
  },
  "varInspector": {
   "cols": {
    "lenName": 16,
    "lenType": 16,
    "lenVar": 40
   },
   "kernels_config": {
    "python": {
     "delete_cmd_postfix": "",
     "delete_cmd_prefix": "del ",
     "library": "var_list.py",
     "varRefreshCmd": "print(var_dic_list())"
    },
    "r": {
     "delete_cmd_postfix": ") ",
     "delete_cmd_prefix": "rm(",
     "library": "var_list.r",
     "varRefreshCmd": "cat(var_dic_list()) "
    }
   },
   "types_to_exclude": [
    "module",
    "function",
    "builtin_function_or_method",
    "instance",
    "_Feature"
   ],
   "window_display": false
  }
 },
 "nbformat": 4,
 "nbformat_minor": 2
}
