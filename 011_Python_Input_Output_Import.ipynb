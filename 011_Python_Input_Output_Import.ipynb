{
 "cells": [
  {
   "cell_type": "markdown",
   "metadata": {},
   "source": [
    "<small><small><i>\n",
    "All of these python notebooks are available at [ https://github.com/milaan9/Python4DataScience ]\n",
    "</i></small></small>"
   ]
  },
  {
   "cell_type": "markdown",
   "metadata": {},
   "source": [
    "# Python Input, Output and Import\n",
    "\n",
    "This class focuses on two built-in functions **`print()`** and **`input()`** to perform I/O task in Python. Also, you will learn to import modules and use them in your program.\n",
    "\n",
    "Python provides numerous **built-in functions** that are readily available to us at the Python prompt.\n",
    "\n",
    "Some of the functions like **`print()`** and **`input()`** are widely used for standard input and output operations respectively. Let us see the output section first."
   ]
  },
  {
   "cell_type": "markdown",
   "metadata": {
    "heading_collapsed": true
   },
   "source": [
    "## 1. Python Output Using `print()` function\n",
    "\n",
    "We use the **`print()`** function to output data to the standard output device (screen). We can also output data to a file, but this will be discussed later.\n",
    "\n",
    "An example of its use is given below."
   ]
  },
  {
   "cell_type": "code",
   "execution_count": null,
   "metadata": {
    "hidden": true
   },
   "outputs": [],
   "source": [
    "# Example 1:\n",
    "\n",
    "print('This sentence is output to the screen')"
   ]
  },
  {
   "cell_type": "code",
   "execution_count": null,
   "metadata": {
    "hidden": true
   },
   "outputs": [],
   "source": [
    "# Example 2:\n",
    "\n",
    "a = 5\n",
    "print('The value of a is', a)"
   ]
  },
  {
   "cell_type": "markdown",
   "metadata": {
    "hidden": true
   },
   "source": [
    "In the second **`print()`** statement, we can notice that space was added between the string and the value of variable **`a`**. This is by default, but we can change it."
   ]
  },
  {
   "cell_type": "markdown",
   "metadata": {
    "hidden": true
   },
   "source": [
    "The actual syntax of the **`print()`** function is:\n",
    "\n",
    "```python\n",
    "print(*objects, sep=' ', end='\\n', file=sys.stdout, flush=False)\n",
    "```\n",
    "\n",
    "Here, objects is the value(s) to be printed.\n",
    "\n",
    "The **`sep`** separator is used between the values. It defaults into a space character.\n",
    "\n",
    "After all values are printed, **`end`** is printed. It defaults into a new line.\n",
    "\n",
    "The **`file`** is the object where the values are printed and its default value is **`sys.stdout`** (screen). Here is an example to illustrate this."
   ]
  },
  {
   "cell_type": "code",
   "execution_count": null,
   "metadata": {
    "hidden": true
   },
   "outputs": [],
   "source": [
    "print(1, 2, 3, 4)\n",
    "print(1, 2, 3, 4, sep='#')\n",
    "print(1, 2, 3, 4, sep='*', end='&')"
   ]
  },
  {
   "cell_type": "markdown",
   "metadata": {
    "heading_collapsed": true,
    "hidden": true
   },
   "source": [
    "### Output formatting\n",
    "\n",
    "Sometimes we would like to format our output to make it look attractive. This can be done by using the **`str.format()`** method. This method is visible to any string object."
   ]
  },
  {
   "cell_type": "code",
   "execution_count": null,
   "metadata": {
    "hidden": true
   },
   "outputs": [],
   "source": [
    "x = 5; y = 10\n",
    "print('The value of x is {} and y is {}'.format(x,y))"
   ]
  },
  {
   "cell_type": "markdown",
   "metadata": {
    "hidden": true
   },
   "source": [
    "Here, the curly braces **`{}`** are used as placeholders. We can specify the order in which they are printed by using numbers (tuple index)."
   ]
  },
  {
   "cell_type": "code",
   "execution_count": null,
   "metadata": {
    "hidden": true
   },
   "outputs": [],
   "source": [
    "print('I love {0} and {1}'.format('Mango','Banana'))\n",
    "print('I love {1} and {0}'.format('Mango','Banana'))"
   ]
  },
  {
   "cell_type": "markdown",
   "metadata": {
    "hidden": true
   },
   "source": [
    "We can even use keyword arguments to format the string."
   ]
  },
  {
   "cell_type": "code",
   "execution_count": null,
   "metadata": {
    "hidden": true
   },
   "outputs": [],
   "source": [
    "print('Hello {name}, {greeting}!'.format(greeting = 'Good morning', name = 'John'))"
   ]
  },
  {
   "cell_type": "markdown",
   "metadata": {
    "hidden": true
   },
   "source": [
    "We can also format strings like the old **`sprintf()`** style used in C programming language. We use the **`%`** operator to accomplish this."
   ]
  },
  {
   "cell_type": "code",
   "execution_count": null,
   "metadata": {
    "hidden": true
   },
   "outputs": [],
   "source": [
    "x = 12.3456789\n",
    "print('The value of x is %0.2f' %x)\n",
    "\n",
    "print('The value of x is %0.3f' %x)"
   ]
  },
  {
   "cell_type": "markdown",
   "metadata": {
    "heading_collapsed": true
   },
   "source": [
    "## 2. Python Input Using `input()` function\n",
    "\n",
    "Up until now, our programs were static. The value of variables was defined or hard coded into the source code.\n",
    "\n",
    "To allow flexibility, we might want to take the input from the user. In Python, we have a built-in function **`input()`** to accept user input.\n",
    "\n",
    "**Syntax**:\n",
    "\n",
    "```python\n",
    "input([prompt])\n",
    "```\n",
    "\n",
    "where **`prompt`** is the string we wish to display on the screen. It is optional."
   ]
  },
  {
   "cell_type": "code",
   "execution_count": null,
   "metadata": {
    "hidden": true,
    "scrolled": true
   },
   "outputs": [],
   "source": [
    "num = input('Enter a number: ')\n",
    "num"
   ]
  },
  {
   "cell_type": "markdown",
   "metadata": {
    "hidden": true
   },
   "source": [
    "Here, we can see that the entered value **`10`** is a string, not a number. To convert this into a number we can use **`int()`** or **`float()`** functions."
   ]
  },
  {
   "cell_type": "code",
   "execution_count": null,
   "metadata": {
    "hidden": true
   },
   "outputs": [],
   "source": [
    "int('10')  # converting string '10' to integer"
   ]
  },
  {
   "cell_type": "code",
   "execution_count": null,
   "metadata": {
    "hidden": true
   },
   "outputs": [],
   "source": [
    "float('10')"
   ]
  },
  {
   "cell_type": "code",
   "execution_count": null,
   "metadata": {
    "hidden": true,
    "scrolled": false
   },
   "outputs": [],
   "source": [
    "int('2+3') # ERROR! cannot add numbers as string data type"
   ]
  },
  {
   "cell_type": "markdown",
   "metadata": {
    "hidden": true
   },
   "source": [
    "This same operation can be performed using the **`eval()`** function. But **`eval`** takes it further. It can evaluate even expressions, provided the input is a string."
   ]
  },
  {
   "cell_type": "code",
   "execution_count": null,
   "metadata": {
    "hidden": true
   },
   "outputs": [],
   "source": [
    "eval('2+3') # Eval function can add numbers in string data type"
   ]
  },
  {
   "cell_type": "code",
   "execution_count": null,
   "metadata": {
    "hidden": true
   },
   "outputs": [],
   "source": [
    "eval('5*6')"
   ]
  },
  {
   "cell_type": "markdown",
   "metadata": {
    "heading_collapsed": true,
    "hidden": true
   },
   "source": [
    "### Accepting User Inputs (as both integer and string)\n",
    "\n",
    "**`input(prompt)`** prompts for and returns input as a string. Hence, if the user inputs a integer, the code should convert the string to an integer and then proceed."
   ]
  },
  {
   "cell_type": "code",
   "execution_count": null,
   "metadata": {
    "hidden": true,
    "scrolled": true
   },
   "outputs": [],
   "source": [
    "abc = input(\"Type something here and it will be stored in variable abc \\t\")"
   ]
  },
  {
   "cell_type": "code",
   "execution_count": null,
   "metadata": {
    "hidden": true,
    "scrolled": true
   },
   "outputs": [],
   "source": [
    "type(abc) "
   ]
  },
  {
   "cell_type": "markdown",
   "metadata": {
    "hidden": true
   },
   "source": [
    "**Note**: **`type( )`** returns the format or the type of a variable or a number"
   ]
  },
  {
   "cell_type": "code",
   "execution_count": null,
   "metadata": {
    "hidden": true,
    "scrolled": true
   },
   "outputs": [],
   "source": [
    "name = input(\"Enter Employee Name \")\n",
    "salary = input(\"Enter salary \")\n",
    "company = input(\"Enter Company name \")\n",
    "\n",
    "print(\"\\n\")\n",
    "print(\"Printing Employee Details\")\n",
    "print(\"Name\", \"Salary\", \"Company\")\n",
    "print(name, salary, company)"
   ]
  },
  {
   "cell_type": "code",
   "execution_count": null,
   "metadata": {
    "hidden": true,
    "scrolled": true
   },
   "outputs": [],
   "source": [
    "number = input(\"Enter number \")\n",
    "name = input(\"Enter name \")\n",
    "\n",
    "print(\"\\n\")\n",
    "print(\"Printing type of a input value\")\n",
    "print(\"type of number\", type(number))\n",
    "print(\"type of name\", type(name))"
   ]
  },
  {
   "cell_type": "markdown",
   "metadata": {
    "heading_collapsed": true,
    "hidden": true
   },
   "source": [
    "### Accepting User Inputs (only as integer)\n",
    "\n",
    "A useful function to use in conjunction with this is **`eval()`** which takes a string and evaluates it as a python expression.\n",
    "\n",
    "*Note:* In notebooks it is often easier just to modify the code than to prompt for input."
   ]
  },
  {
   "cell_type": "code",
   "execution_count": null,
   "metadata": {
    "hidden": true
   },
   "outputs": [],
   "source": [
    "xyz =  input(\"xyz = \")\n",
    "xyzValue=eval(xyz)  # change input to integer data type from string data type\n",
    "print(xyz,'=',xyzValue)"
   ]
  },
  {
   "cell_type": "code",
   "execution_count": null,
   "metadata": {
    "hidden": true
   },
   "outputs": [],
   "source": [
    "int(\"55\") "
   ]
  },
  {
   "cell_type": "code",
   "execution_count": null,
   "metadata": {
    "hidden": true,
    "scrolled": false
   },
   "outputs": [],
   "source": [
    "# program to calculate addition of two input numbers\n",
    "\n",
    "first_number = int(input(\"Enter first number \"))  # converting input value to integer\n",
    "second_number = int(input(\"Enter second number \"))  # converting input value to integer\n",
    "\n",
    "print(\"\\n\")\n",
    "print(\"First Number:\", first_number)\n",
    "print(\"Second Number:\", second_number)\n",
    "sum1 = first_number + second_number\n",
    "print(\"Addition of two number is: \", sum1)"
   ]
  },
  {
   "cell_type": "code",
   "execution_count": null,
   "metadata": {
    "hidden": true
   },
   "outputs": [],
   "source": [
    "# Write code to get three numbers and add first 2 number and multiply with third number\n",
    "\n",
    "num1 = int(input(\"Enter first number \"))  # converting input value to integer\n",
    "num2 = int(input(\"Enter second number \"))  # converting input value to integer\n",
    "num3 = int(input(\"Enter third number\"))\n",
    "\n",
    "print(\"\\n\")\n",
    "print(\"First Number:\", num1)\n",
    "print(\"Second Number:\", num2)\n",
    "print(\"Third Number:\", num3)\n",
    "\n",
    "result=(num1+num2)*num3\n",
    "print(\"Final result is:\", result)"
   ]
  },
  {
   "cell_type": "code",
   "execution_count": null,
   "metadata": {
    "hidden": true
   },
   "outputs": [],
   "source": [
    "# Write a code to get four numbers: \n",
    "#Step 1. Multiply first and fourth number \n",
    "#Step 2. Divide second and third number \n",
    "#Step3. Add Step 1 and Step 2 outputs.\n",
    "\n",
    "num1 = int(input(\"Enter first number \")) \n",
    "num2 = int(input(\"Enter second number \")) \n",
    "num3 = int(input(\"Enter third number\"))\n",
    "num4 = int(input(\"Enter fourth number\"))\n",
    "\n",
    "print(\"\\n\")\n",
    "print(\"First Number:\", num1)\n",
    "print(\"Second Number:\", num2)\n",
    "print(\"Third Number:\", num3)\n",
    "print(\"Fourth number\", num4)\n",
    "\n",
    "result=(num1*num4)+(num2/num3)\n",
    "print(\"Final result is:\", result)\n"
   ]
  },
  {
   "cell_type": "code",
   "execution_count": null,
   "metadata": {
    "hidden": true
   },
   "outputs": [],
   "source": [
    "# Write a code to get cube of the number\n",
    "\n",
    "def cube(x):\n",
    "    return x*x*x\n",
    "\n",
    "a=int(input(\"Enter number :\"))\n",
    "print(\"cube of\",a,\"is\",cube(a))"
   ]
  },
  {
   "cell_type": "markdown",
   "metadata": {
    "heading_collapsed": true,
    "hidden": true
   },
   "source": [
    "### Accept float input from User\n",
    "\n",
    "Let’s see how to accept float value from a user in Python. You need to convert user input to the float number using the float() function as we did for the integer value."
   ]
  },
  {
   "cell_type": "code",
   "execution_count": null,
   "metadata": {
    "hidden": true
   },
   "outputs": [],
   "source": [
    "float_number = float(input(\"Enter float number \"))  # converting input value to float\n",
    "print(\"\\n\")\n",
    "print(\"input float number is: \", float_number)\n",
    "print(\"type is:\", type(float_number))"
   ]
  },
  {
   "cell_type": "markdown",
   "metadata": {
    "heading_collapsed": true,
    "hidden": true
   },
   "source": [
    "### Practice Problem\n",
    "\n",
    "Accept one integer and one float number from the user and calculate the addition of both the numbers."
   ]
  },
  {
   "cell_type": "code",
   "execution_count": null,
   "metadata": {
    "hidden": true,
    "scrolled": true
   },
   "outputs": [],
   "source": [
    "num1 = int(input(\"Enter first number \"))  \n",
    "num2 = float(input(\"Enter second number \"))  \n",
    "\n",
    "result=(num1+num2)\n",
    "print(\"Final result is:\", result)"
   ]
  },
  {
   "cell_type": "markdown",
   "metadata": {
    "hidden": true
   },
   "source": [
    "### Get multiple input values from a user in one line\n",
    "\n",
    "In Python, It is possible to get multiple values from the user in one line. i.e., In Python, we can accept two or three values from the user in one input() call.\n",
    "\n",
    "For example, in a single execution of the input() function, we can ask the user hi/her name, age, and phone number and store it in three different variables. Let’ see how to do this."
   ]
  },
  {
   "cell_type": "code",
   "execution_count": null,
   "metadata": {
    "hidden": true
   },
   "outputs": [],
   "source": [
    "name, age, phone = input(\"Enter your name, Age, Percentage separated by space \").split()\n",
    "print(\"\\n\")\n",
    "print(\"User Details: \", name, age, phone)"
   ]
  },
  {
   "cell_type": "markdown",
   "metadata": {
    "hidden": true
   },
   "source": [
    "### Accept multiline input from a user\n",
    "\n",
    "As you know, the input() function does not allow the user to enter put lines separated by a newline. If the user tries to enter multiline input, it prints back only the first line. Let’s see how to gets multiple line input.\n",
    "\n",
    "As you know, the input() function does not allow the user to enter put lines separated by a newline. If the user tries to enter multiline input, it prints back only the first line. Let’s see how to gets multiple line input.\n",
    "\n",
    "We can use for loop. In each iteration, we can get input string from the user and then .join() them using \\n, or you can also concatenate each input string using + operator separated by \\n."
   ]
  },
  {
   "cell_type": "code",
   "execution_count": null,
   "metadata": {
    "hidden": true
   },
   "outputs": [],
   "source": [
    "MultiLine = []\n",
    "print(\"Tell me about yourself\")\n",
    "while True:\n",
    "    line = input()\n",
    "    if line:\n",
    "        MultiLine.append(line)\n",
    "    else:\n",
    "        break\n",
    "finalText = '\\n'.join(MultiLine)\n",
    "print(\"\\n\")\n",
    "print(\"Final text input\")\n",
    "print(finalText)"
   ]
  },
  {
   "cell_type": "markdown",
   "metadata": {
    "hidden": true
   },
   "source": [
    "### Format output strings by its positions\n"
   ]
  },
  {
   "cell_type": "code",
   "execution_count": null,
   "metadata": {
    "hidden": true
   },
   "outputs": [],
   "source": [
    "firstName = input(\"Enter First Name \")\n",
    "lastName = input(\"Enter Last Name \")\n",
    "organization = input(\"Enter Organization Name \")\n",
    "\n",
    "print(\"\\n\")\n",
    "print('{0}, {1} works at {2}'.format(firstName, lastName, organization))\n",
    "print('{1}, {0} works at {2}'.format(firstName, lastName, organization))\n",
    "print('FirstName {0}, LastName {1} works at {2}'.format(firstName, lastName, organization))\n",
    "print('{0}, {1} {0}, {1} works at {2}'.format(firstName, lastName, organization))"
   ]
  },
  {
   "cell_type": "markdown",
   "metadata": {
    "hidden": true
   },
   "source": [
    "### Accessing output string arguments by name\n"
   ]
  },
  {
   "cell_type": "code",
   "execution_count": null,
   "metadata": {
    "hidden": true
   },
   "outputs": [],
   "source": [
    "name = input(\"Enter Name \")\n",
    "marks = input(\"Enter marks \")\n",
    "\n",
    "print(\"\\n\")\n",
    "print('Student: Name:  {firstName}, Marks: {percentage}%'.format(firstName=name, percentage=marks))"
   ]
  },
  {
   "cell_type": "markdown",
   "metadata": {
    "hidden": true
   },
   "source": [
    "### Output text alignment specifying a width"
   ]
  },
  {
   "cell_type": "code",
   "execution_count": null,
   "metadata": {
    "hidden": true
   },
   "outputs": [],
   "source": [
    "text = input(\"Enter text \")\n",
    "\n",
    "print(\"\\n\")\n",
    "# left aligned\n",
    "print('{:<25}'.format(text)) # Right aligned print('{:>25}'.format(text))\n",
    "# centered\n",
    "print('{:^25}'.format(text))\n",
    "# right aligned\n",
    "print('{:>25}'.format(text))"
   ]
  },
  {
   "cell_type": "markdown",
   "metadata": {
    "hidden": true
   },
   "source": [
    "### Specifying a sign while displaying output numbers"
   ]
  },
  {
   "cell_type": "code",
   "execution_count": null,
   "metadata": {
    "hidden": true
   },
   "outputs": [],
   "source": [
    "positive_number = float(input(\"Enter Positive Number \"))\n",
    "negative_number = float(input(\"Enter Negative Number \"))\n",
    "\n",
    "print(\"\\n\")\n",
    "# sign '+' is for both positive and negative number\n",
    "print('{:+f}; {:+f}'.format(positive_number, negative_number))\n",
    "\n",
    "# sign '-' is only for negative number\n",
    "print('{:f}; {:-f}'.format(positive_number, negative_number))"
   ]
  },
  {
   "cell_type": "markdown",
   "metadata": {
    "hidden": true
   },
   "source": [
    "### Display output Number in various type format"
   ]
  },
  {
   "cell_type": "code",
   "execution_count": null,
   "metadata": {
    "hidden": true
   },
   "outputs": [],
   "source": [
    "number = int(input(\"Enter number \"))\n",
    "\n",
    "print(\"\\n\")\n",
    "# 'd' is for integer number formatting\n",
    "print(\"The number is:{:d}\".format(number))\n",
    "\n",
    "# 'o' is for octal number formatting, binary and hexadecimal format\n",
    "print('Output number in octal format : {0:o}'.format(number))\n",
    "\n",
    "# 'b' is for binary number formatting\n",
    "print('Output number in binary format: {0:b}'.format(number))\n",
    "\n",
    "# 'x' is for hexadecimal format\n",
    "print('Output number in hexadecimal format: {0:x}'.format(number))"
   ]
  },
  {
   "cell_type": "markdown",
   "metadata": {
    "hidden": true
   },
   "source": [
    "### Display numbers in floating-point format\n"
   ]
  },
  {
   "cell_type": "code",
   "execution_count": null,
   "metadata": {
    "hidden": true
   },
   "outputs": [],
   "source": [
    "number = float(input(\"Enter float Number \"))\n",
    "\n",
    "print(\"\\n\")\n",
    "# 'f' is for float number arguments\n",
    "print(\"Output Number in The float type :{:f}\".format(number))\n",
    "\n",
    "# padding for float numbers\n",
    "print('padding for output float number{:5.2f}'.format(number))\n",
    "\n",
    "# 'e' is for Exponent notation\n",
    "print('Output Exponent notation{:e}'.format(number))\n",
    "\n",
    "# 'E' is for Exponent notation in UPPER CASE\n",
    "print('Output Exponent notation{:E}'.format(number))"
   ]
  },
  {
   "cell_type": "markdown",
   "metadata": {
    "hidden": true
   },
   "source": [
    "### Output String justification\n",
    "\n",
    "Let’s see how to use **`str.rjust()`**,   **`str.ljust()`** and **`str.center()`** to justify text output on screen and console."
   ]
  },
  {
   "cell_type": "code",
   "execution_count": null,
   "metadata": {
    "hidden": true
   },
   "outputs": [],
   "source": [
    "text = input(\"Enter String \")\n",
    "\n",
    "print(\"\\n\")\n",
    "print(\"Left justification\", text.ljust(60, \"*\"))\n",
    "print(\"Right justification\", text.rjust(60, \"*\"))\n",
    "print(\"Center justification\", text.center(60, \"*\"))"
   ]
  },
  {
   "cell_type": "markdown",
   "metadata": {
    "heading_collapsed": true
   },
   "source": [
    "## 3. Python `Import` function\n",
    "\n",
    "When our program grows bigger, it is a good idea to break it into different modules.\n",
    "\n",
    "A module is a file containing Python definitions and statements. Python modules have a filename and end with the extension **`.py`**.\n",
    "\n",
    "Definitions inside a module can be imported to another module or the interactive interpreter in Python. We use the **`import`** keyword to do this.\n",
    "\n",
    "For example, we can import the **`math`** module by typing the following line:\n",
    "\n",
    "```python\n",
    ">import math\n",
    "```"
   ]
  },
  {
   "cell_type": "markdown",
   "metadata": {
    "hidden": true
   },
   "source": [
    "We can use the module in the following ways:"
   ]
  },
  {
   "cell_type": "code",
   "execution_count": null,
   "metadata": {
    "hidden": true
   },
   "outputs": [],
   "source": [
    "import math\n",
    "print(math.pi)"
   ]
  },
  {
   "cell_type": "markdown",
   "metadata": {
    "hidden": true
   },
   "source": [
    "Now all the definitions inside **`math`** module are available in our scope. We can also import some specific attributes and functions only, using the **`from`** keyword. For example:"
   ]
  },
  {
   "cell_type": "code",
   "execution_count": null,
   "metadata": {
    "hidden": true
   },
   "outputs": [],
   "source": [
    "from math import pi\n",
    "pi"
   ]
  },
  {
   "cell_type": "markdown",
   "metadata": {
    "hidden": true
   },
   "source": [
    "While importing a module, Python looks at several places defined in **`sys.path`**. It is a list of directory locations."
   ]
  },
  {
   "cell_type": "code",
   "execution_count": null,
   "metadata": {
    "hidden": true,
    "scrolled": true
   },
   "outputs": [],
   "source": [
    "import sys\n",
    "sys.path"
   ]
  },
  {
   "cell_type": "markdown",
   "metadata": {
    "hidden": true
   },
   "source": [
    "We can also add our own location to this list."
   ]
  },
  {
   "cell_type": "code",
   "execution_count": null,
   "metadata": {
    "hidden": true
   },
   "outputs": [],
   "source": []
  }
 ],
 "metadata": {
  "hide_input": false,
  "kernelspec": {
   "display_name": "Python 3",
   "language": "python",
   "name": "python3"
  },
  "language_info": {
   "codemirror_mode": {
    "name": "ipython",
    "version": 3
   },
   "file_extension": ".py",
   "mimetype": "text/x-python",
   "name": "python",
   "nbconvert_exporter": "python",
   "pygments_lexer": "ipython3",
   "version": "3.8.3"
  },
  "varInspector": {
   "cols": {
    "lenName": 16,
    "lenType": 16,
    "lenVar": 40
   },
   "kernels_config": {
    "python": {
     "delete_cmd_postfix": "",
     "delete_cmd_prefix": "del ",
     "library": "var_list.py",
     "varRefreshCmd": "print(var_dic_list())"
    },
    "r": {
     "delete_cmd_postfix": ") ",
     "delete_cmd_prefix": "rm(",
     "library": "var_list.r",
     "varRefreshCmd": "cat(var_dic_list()) "
    }
   },
   "types_to_exclude": [
    "module",
    "function",
    "builtin_function_or_method",
    "instance",
    "_Feature"
   ],
   "window_display": false
  }
 },
 "nbformat": 4,
 "nbformat_minor": 2
}
