{
 "cells": [
  {
   "cell_type": "markdown",
   "metadata": {},
   "source": [
    "<small><small><i>\n",
    "All of these python notebooks are available at [ https://github.com/milaan9/Python4DataScience ]\n",
    "</i></small></small>"
   ]
  },
  {
   "cell_type": "markdown",
   "metadata": {},
   "source": [
    "# Python Operators\n",
    "\n",
    "Python can be used like a calculator. Simply type in expressions to get them evaluated.\n",
    "\n",
    "**What are operators in python?**\n",
    "\n",
    "Operators are special **symbols** in Python that carry out **arithmetic** or **logical computation**. The value that the operator operates on is called the **operand**.\n",
    "\n",
    "For example:\n",
    "\n",
    "```python\n",
    ">>>2+3\n",
    "\n",
    "5\n",
    "```\n",
    "\n",
    "Here, **`+`** is the operator that performs addition. **`2`** and **`3`** are the operands and **`5`** is the output of the **operation**."
   ]
  },
  {
   "cell_type": "code",
   "execution_count": null,
   "metadata": {},
   "outputs": [],
   "source": [
    "2+3"
   ]
  },
  {
   "cell_type": "markdown",
   "metadata": {
    "heading_collapsed": true
   },
   "source": [
    "## 1. Arithmatic Operators\n",
    "\n",
    "Arithmetic operators are used to perform **mathematical operations** like **addition**, **subtraction**, **multiplication** etc.\n",
    "\n",
    "| Symbol | Task Performed | Meaning | Example | \n",
    "|:-------|:---------------| :------ |:--------|\n",
    "| **`+`**      | Addition | add two operands or unary plus | **x + y** or **+2** | \n",
    "| **`-`**      | Subtraction | substract right operand from the left or unary minus | **x - y** or **-2** | \n",
    "| **`*`**      | Multiplication | Multiply two operands | **x \\* y** |\n",
    "| **`/`**      | Division | Divide left operand by the right one (always results into float) | **x / y** | \n",
    "| **`%`**      | Modulus (remainder) | remainder of the division of left operand by the right | **x % y** (remainder of **x/y**) | \n",
    "| **`//`**     | Integer/Floor division | division that results into whole number adjusted to the left in the number line | **x // y** | \n",
    "| <b>`**`</b>     | Exponentiation (power) | left operand raised to the power of right | **x \\*\\* y** (**x** to the power **y**) |\n",
    "\n",
    "As expected these operations generally promote to the most general type of any of the numbers involved i.e. int -> float -> complex.\n",
    "\n",
    "#### Example : Arithmetic operators in Python"
   ]
  },
  {
   "cell_type": "code",
   "execution_count": null,
   "metadata": {
    "ExecuteTime": {
     "end_time": "2021-06-06T07:55:17.140338Z",
     "start_time": "2021-06-06T07:55:17.117881Z"
    },
    "hidden": true
   },
   "outputs": [],
   "source": [
    "x = 15\n",
    "\n",
    "y = 4\n",
    "\n",
    "# Output: x + y = 19\n",
    "print('x + y =',x+y)\n",
    "\n",
    "# Output: x - y = 11\n",
    "print('x - y =',x-y)\n",
    "\n",
    "# Output: x * y = 60\n",
    "print('x * y =',x*y)\n",
    "\n",
    "# Output: x / y = 3.75\n",
    "print('x / y =',x/y)\n",
    "\n",
    "# Output: x // y = 3\n",
    "print('x // y =',x//y)"
   ]
  },
  {
   "cell_type": "code",
   "execution_count": null,
   "metadata": {
    "hidden": true
   },
   "outputs": [],
   "source": [
    "1+2+3"
   ]
  },
  {
   "cell_type": "code",
   "execution_count": null,
   "metadata": {
    "hidden": true
   },
   "outputs": [],
   "source": [
    "3-1"
   ]
  },
  {
   "cell_type": "code",
   "execution_count": null,
   "metadata": {
    "hidden": true
   },
   "outputs": [],
   "source": [
    "2 * (3+0j) * 1.0"
   ]
  },
  {
   "cell_type": "code",
   "execution_count": null,
   "metadata": {
    "hidden": true
   },
   "outputs": [],
   "source": [
    "3/4"
   ]
  },
  {
   "cell_type": "markdown",
   "metadata": {
    "hidden": true
   },
   "source": [
    "In many languages (and older versions of python) 1/2 = 0 (truncated division). In Python 3 this behaviour is captured by a separate operator that rounds down: (i.e., **a // b$=\\lfloor \\frac{a}{b}\\rfloor$**)"
   ]
  },
  {
   "cell_type": "code",
   "execution_count": null,
   "metadata": {
    "hidden": true
   },
   "outputs": [],
   "source": [
    "3//4.0"
   ]
  },
  {
   "cell_type": "code",
   "execution_count": null,
   "metadata": {
    "hidden": true
   },
   "outputs": [],
   "source": [
    "15%10"
   ]
  },
  {
   "cell_type": "markdown",
   "metadata": {
    "hidden": true
   },
   "source": [
    "Python natively allows (nearly) infinite length integers while floating point numbers are double precision numbers:"
   ]
  },
  {
   "cell_type": "code",
   "execution_count": null,
   "metadata": {
    "hidden": true,
    "scrolled": true
   },
   "outputs": [],
   "source": [
    "11**300"
   ]
  },
  {
   "cell_type": "code",
   "execution_count": null,
   "metadata": {
    "hidden": true
   },
   "outputs": [],
   "source": [
    "11.0**300"
   ]
  },
  {
   "cell_type": "markdown",
   "metadata": {
    "heading_collapsed": true
   },
   "source": [
    "## 2. Comparison/Relational operators\n",
    "\n",
    "Comparison operators are used to **compare values**. It either returns **True** or **False** according to the **condition**.\n",
    "\n",
    "| Symbol | Task Performed | Meaning | Example | \n",
    "|:----| :--- |:--- |:--- |\n",
    "| **`>`** | greater than | True if left operand is greater than the right | **x > y** | \n",
    "| **`<`** | less than | True if left operand is less than the right | **x < y** | \n",
    "| **`==`** | equal to | True if both operands are equal | **x == y** | \n",
    "| **`!=`**  | not equal to | True if both operands are not equal | **x != y** | \n",
    "| **`>=`**  | greater than or equal to | True if left operand is greater than or equal to the right | **x >= y** | \n",
    "| **`<=`**  | less than or equal to | True if left operand is less than or equal to the right | **x <= y** | \n",
    "\n",
    "Note the difference between **`==`** (equality test) and **`=`** (assignment)\n",
    "\n",
    "#### Example : Comparison operators in Python"
   ]
  },
  {
   "cell_type": "code",
   "execution_count": null,
   "metadata": {
    "hidden": true
   },
   "outputs": [],
   "source": [
    "x = 10\n",
    "y = 12\n",
    "\n",
    "# Output: x > y is False\n",
    "print('x > y is',x>y)\n",
    "\n",
    "# Output: x < y is True\n",
    "# Output: x >= y is False\n",
    "print('x < y is',x<y)\n",
    "print('x >= y is',x>=y)\n",
    "\n",
    "# Output: x <= y is True\n",
    "print('x <= y is',x<=y)"
   ]
  },
  {
   "cell_type": "code",
   "execution_count": null,
   "metadata": {
    "hidden": true
   },
   "outputs": [],
   "source": [
    "z = 2\n",
    "z == 2"
   ]
  },
  {
   "cell_type": "code",
   "execution_count": null,
   "metadata": {
    "hidden": true,
    "scrolled": true
   },
   "outputs": [],
   "source": [
    "z > 2"
   ]
  },
  {
   "cell_type": "markdown",
   "metadata": {
    "hidden": true
   },
   "source": [
    "Comparisons can also be chained in the mathematically obvious way. The following will work as expected in Python (but not in other languages like C/C++):"
   ]
  },
  {
   "cell_type": "code",
   "execution_count": null,
   "metadata": {
    "hidden": true
   },
   "outputs": [],
   "source": [
    "0.5 < z <= 1   # z == 2"
   ]
  },
  {
   "cell_type": "markdown",
   "metadata": {
    "heading_collapsed": true
   },
   "source": [
    "## 3. Logical/Boolean operators \n",
    "\n",
    "Logical operators are the **`and`**, **`or`**, **`not`** operators.\n",
    "\n",
    "| Symbol | Meaning | Example | \n",
    "|:----| :--- |:--- |\n",
    "| **`and`** |  True if both the operands are true | **x and y** | \n",
    "| **`or`** |  True if either of the operand is true | **x or y** | \n",
    "| **`not`** |  True if operand are false (complements the operand) | **not x** | \n",
    "\n",
    "\n",
    "#### Example : Logical operators in Python"
   ]
  },
  {
   "cell_type": "code",
   "execution_count": null,
   "metadata": {
    "hidden": true
   },
   "outputs": [],
   "source": [
    "x = True\n",
    "\n",
    "y = False\n",
    "\n",
    "# Output: x and y is False\n",
    "print('x and y is',x and y)\n",
    "\n",
    "# Output: x or y is True\n",
    "print('x or y is',x or y)\n",
    "\n",
    "# Output: not x is False\n",
    "print('not x is',not x)"
   ]
  },
  {
   "cell_type": "markdown",
   "metadata": {
    "heading_collapsed": true
   },
   "source": [
    "## 4. Bitwise operators\n",
    "\n",
    "Bitwise operators act on operands as if they were string of binary digits. It operates **bit by bit**, hence the name.\n",
    "\n",
    "For example, 2 is **`10`** in binary and 7 is **`111`**.\n",
    "\n",
    "In the table below: Let **`x`** = 10 (**`0000 1010`** in binary) and **`y`** = 4 (**`0000 0100`** in binary)\n",
    "\n",
    "|Operator|Meaning | \\| | Symbol | Task Performed | Example |\n",
    "|:----|:--- | - |:----|:---|:---|\n",
    "|**`and`** | Logical and | \\| | **`&`**  | Bitwise And | **x & y** = 0 (**`0000 0000`**) | \n",
    "|**`or`** | Logical or | \\| | **$\\mid$**  | Bitwise OR | **x \\| y** = 14 (**`0000 1110`**) |\n",
    "|**`not`** | Not | \\| | **`~`**  | Bitwise NOT | **~x** = -11 (**`1111 0101`**) |\n",
    "| &nbsp;  |&nbsp;  |  \\| |  **`^`**  | Bitwise XOR | **x ^ y** = 14 (**`0000 1110`**) |\n",
    "| &nbsp;|&nbsp; | \\| |  **`>>`**  | Bitwise right shift | **x >> 2** = 2 (**`0000 0010`**) |\n",
    "| &nbsp;| &nbsp;| \\| |  **`<<`**  | Bitwise left shift | **x << 2** = 40 (**`0010 1000`**) |"
   ]
  },
  {
   "cell_type": "code",
   "execution_count": null,
   "metadata": {
    "hidden": true
   },
   "outputs": [],
   "source": [
    "a = 2 #binary: 10\n",
    "b = 3 #binary: 11\n",
    "print('a & b =',a & b,\"=\",bin(a&b))\n"
   ]
  },
  {
   "cell_type": "code",
   "execution_count": null,
   "metadata": {
    "hidden": true,
    "scrolled": true
   },
   "outputs": [],
   "source": [
    "5 >> 1"
   ]
  },
  {
   "cell_type": "markdown",
   "metadata": {
    "hidden": true
   },
   "source": [
    "**Explanation**:\n",
    "\n",
    "0000 0101 -> 5  (5 is 0101 in binary)\n",
    "\n",
    "Shifting the digits by 1 to the right and zero padding that will be 0 -> 0000 0101 = 0000 0010\n",
    "\n",
    "0000 0010 -> 2 "
   ]
  },
  {
   "cell_type": "code",
   "execution_count": null,
   "metadata": {
    "hidden": true,
    "scrolled": true
   },
   "outputs": [],
   "source": [
    "5 << 1"
   ]
  },
  {
   "cell_type": "markdown",
   "metadata": {
    "hidden": true
   },
   "source": [
    "**Explanation**:\n",
    "\n",
    "0000 0101 -> 5\n",
    "\n",
    "Shifting the digits by 1 to the left and zero padding\n",
    "\n",
    "0000 1010 -> 10"
   ]
  },
  {
   "cell_type": "code",
   "execution_count": null,
   "metadata": {
    "hidden": true
   },
   "outputs": [],
   "source": [
    "7 >> 2"
   ]
  },
  {
   "cell_type": "code",
   "execution_count": null,
   "metadata": {
    "hidden": true,
    "scrolled": true
   },
   "outputs": [],
   "source": [
    "print( not (True and False), \"==\", not True or not False)"
   ]
  },
  {
   "cell_type": "code",
   "execution_count": null,
   "metadata": {
    "hidden": true
   },
   "outputs": [],
   "source": [
    "print (or (False not False or (False and True)), \"==\" not (True and (not False) or not True)"
   ]
  },
  {
   "cell_type": "markdown",
   "metadata": {
    "heading_collapsed": true
   },
   "source": [
    "## 5. Assignment operators\n",
    "\n",
    "Assignment operators are used in Python to **assign values** to **variables**.\n",
    "\n",
    "**`a = 5`** is a simple assignment operator that assigns the value 5 on the right to the variable **`a`** on the left.\n",
    "\n",
    "There are various compound operators in Python like a **`+= 5`** that adds to the variable and later assigns the same. It is equivalent to **`a = a + 5`**.\n",
    "\n",
    "| Symbol | Example | Equivalent to | \n",
    "|:----| :--- |:--- |\n",
    "| **`=`** | **x = 5** | **x = 5** | \n",
    "| **`+=`** | **x += 5** | **x = x + 5** | \n",
    "| **`-=`** | **x -= 5** | **x = x - 5** | \n",
    "| **`*=`** | **x \\*= 5** | **x = x \\* 5** | \n",
    "| **`/=`** | **x /= 5** | **x = x / 5** | \n",
    "| **`%=`** | **x %= 5** | **x = x % 5** | \n",
    "| **`//=`** | **x //= 5** | **x = x // 5** | \n",
    "| <b>`**=`</b> | **x \\*\\*= 5** | **x = x \\*\\* 5** | \n",
    "| **`&=`** | **x &= 5** | **x = x & 5** | \n",
    "| **`\\|=`** | **x \\|= 5** | **x = x \\| 5** | \n",
    "| **`^=`** | **x ^= 5** | **x = x ^ 5** | \n",
    "| **`>>=`** | **x >>= 5** | **x = x >> 5** | \n",
    "| **`<<=`** | **x <<= 5** | **x = x << 5** | "
   ]
  },
  {
   "cell_type": "markdown",
   "metadata": {
    "hidden": true
   },
   "source": [
    "The binary operators can be combined with assignment to modify a variable value. For example:"
   ]
  },
  {
   "cell_type": "code",
   "execution_count": null,
   "metadata": {
    "hidden": true
   },
   "outputs": [],
   "source": [
    "x = 1\n",
    "x += 2 # add 2 to x\n",
    "print(\"x is\",x)\n",
    "x <<= 2 # left shift by 2 (equivalent to x *= 4)\n",
    "print('x is',x)\n",
    "x **= 2 # x := x^2\n",
    "print('x is',x)"
   ]
  },
  {
   "cell_type": "markdown",
   "metadata": {},
   "source": [
    "## 6. Special operators\n",
    "\n",
    "Python language offers some special types of operators like the identity operator or the membership operator. They are described below with examples."
   ]
  },
  {
   "cell_type": "markdown",
   "metadata": {
    "heading_collapsed": true
   },
   "source": [
    "### 1. Identity operators\n",
    "\n",
    "**`is`** and **`is not`** are the identity operators in Python. They are used to check if two values (or variables) are located on the same part of the **memory**. Two variables that are equal does not imply that they are **identical**.\n",
    "\n",
    "| Symbol | Meaning | Example | \n",
    "|:----| :--- |:--- |\n",
    "| **`is`** |  True if the operands are identical (refer to the same object) | **x is True**  | \n",
    "| **`is not`** |  True if the operands are not identical (do not refer to the same object)  | **x is not True** | \n",
    "\n",
    "#### Example : Identity operators in Python"
   ]
  },
  {
   "cell_type": "code",
   "execution_count": null,
   "metadata": {
    "hidden": true
   },
   "outputs": [],
   "source": [
    "x1 = 5\n",
    "y1 = 5\n",
    "x2 = 'Hello'\n",
    "y2 = 'Hello'\n",
    "x3 = [1,2,3]\n",
    "y3 = [1,2,3]\n",
    "\n",
    "# Output: False\n",
    "print(x1 is not y1)\n",
    "\n",
    "# Output: True\n",
    "print(x2 is y2)\n",
    "\n",
    "# Output: False because two list [] can never be equal\n",
    "print(x3 is y3)"
   ]
  },
  {
   "cell_type": "markdown",
   "metadata": {
    "hidden": true
   },
   "source": [
    "**Explanation:**\n",
    "\n",
    "Here, we see that **`x1`** and **`y1`** are integers of same values, so they are equal as well as identical. Same is the case with **`x2`** and **`y2`** (strings).\n",
    "\n",
    "But **`x3`** and **`y3`** are list. They are equal but not identical. It is because interpreter locates them **separately in memory** although they are equal."
   ]
  },
  {
   "cell_type": "markdown",
   "metadata": {
    "heading_collapsed": true
   },
   "source": [
    "### 2. Membership operators\n",
    "\n",
    "**`in`** and **`not in`** are the membership operators in Python. They are used to test whether a value or variable is found in a **sequence** (string, list, tuple, set and dictionary).\n",
    "\n",
    "In a dictionary we can only test for presence of **key, not the value**.\n",
    "\n",
    "| Symbol | Meaning | Example | \n",
    "|:----| :--- |:--- |\n",
    "| **`in`** |  True if value/variable is found in sequence | **5 in x**  | \n",
    "| **`not in`** |  True if value/variable is not found in sequence | **5 not in x**  | \n",
    "\n",
    "#### Example : Membership operators in Python"
   ]
  },
  {
   "cell_type": "code",
   "execution_count": null,
   "metadata": {
    "hidden": true
   },
   "outputs": [],
   "source": [
    "x = 'Hello world'\n",
    "y = {1:'a',2:'b'} # dictionary 1 is key and 'a' is element. So we access element without its key.\n",
    "\n",
    "# Output: True\n",
    "print('H' in x)\n",
    "\n",
    "# Output: True\n",
    "print('hello' not in x)\n",
    "\n",
    "# Output: True\n",
    "print(1 in y)\n",
    "\n",
    "# Output: False because we cannot identify 'a' without its key hence it is Flase.\n",
    "print('a' in y)"
   ]
  },
  {
   "cell_type": "markdown",
   "metadata": {
    "hidden": true
   },
   "source": [
    "**Explanation:**\n",
    "\n",
    "Here, **'`H`'** is in **`x`** but **'`hello`'** is not present in **`x`** (remember, Python is case sensitive). Similary, **`1`** is key and **'`a`'** is the value in dictionary y. Hence, **`'a'in y`** returns **`False`**."
   ]
  },
  {
   "cell_type": "code",
   "execution_count": null,
   "metadata": {
    "hidden": true
   },
   "outputs": [],
   "source": []
  }
 ],
 "metadata": {
  "hide_input": false,
  "kernelspec": {
   "display_name": "Python 3",
   "language": "python",
   "name": "python3"
  },
  "language_info": {
   "codemirror_mode": {
    "name": "ipython",
    "version": 3
   },
   "file_extension": ".py",
   "mimetype": "text/x-python",
   "name": "python",
   "nbconvert_exporter": "python",
   "pygments_lexer": "ipython3",
   "version": "3.8.3"
  },
  "varInspector": {
   "cols": {
    "lenName": 16,
    "lenType": 16,
    "lenVar": 40
   },
   "kernels_config": {
    "python": {
     "delete_cmd_postfix": "",
     "delete_cmd_prefix": "del ",
     "library": "var_list.py",
     "varRefreshCmd": "print(var_dic_list())"
    },
    "r": {
     "delete_cmd_postfix": ") ",
     "delete_cmd_prefix": "rm(",
     "library": "var_list.r",
     "varRefreshCmd": "cat(var_dic_list()) "
    }
   },
   "types_to_exclude": [
    "module",
    "function",
    "builtin_function_or_method",
    "instance",
    "_Feature"
   ],
   "window_display": false
  }
 },
 "nbformat": 4,
 "nbformat_minor": 2
}
